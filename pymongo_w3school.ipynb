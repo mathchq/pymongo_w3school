{
 "cells": [
  {
   "cell_type": "markdown",
   "metadata": {},
   "source": [
    "### Creating a Collection and Insert a Record"
   ]
  },
  {
   "cell_type": "code",
   "execution_count": 22,
   "metadata": {
    "ExecuteTime": {
     "end_time": "2019-08-24T12:26:04.712757Z",
     "start_time": "2019-08-24T12:26:04.705584Z"
    }
   },
   "outputs": [],
   "source": [
    "import pymongo\n",
    "\n",
    "URL = \"mongodb://localhost:27017/\"\n",
    "DB_NAME = 'test_w3s'\n",
    "COL_NAME = 'test_collection'\n",
    "\n",
    "first_record = {'name':'joe', 'birth':'19930101'}\n",
    "\n",
    "my_client = pymongo.MongoClient(URL)\n",
    "my_db = my_client[DB_NAME]\n",
    "my_collection = my_db[COL_NAME]\n",
    "row = my_collection.insert_one(first_record)"
   ]
  },
  {
   "cell_type": "markdown",
   "metadata": {},
   "source": [
    "### Check if Database Exists"
   ]
  },
  {
   "cell_type": "code",
   "execution_count": 21,
   "metadata": {
    "ExecuteTime": {
     "end_time": "2019-08-24T12:24:56.054932Z",
     "start_time": "2019-08-24T12:24:56.048907Z"
    }
   },
   "outputs": [
    {
     "name": "stdout",
     "output_type": "stream",
     "text": [
      "True\n",
      "True\n"
     ]
    }
   ],
   "source": [
    "db_list = my_client.list_database_names()\n",
    "print(DB_NAME in db_list)\n",
    "\n",
    "collection_list = my_db.list_collection_names()\n",
    "print(COL_NAME in collection_list)\n"
   ]
  },
  {
   "cell_type": "markdown",
   "metadata": {
    "ExecuteTime": {
     "end_time": "2019-08-24T12:21:43.815060Z",
     "start_time": "2019-08-24T12:21:43.809407Z"
    }
   },
   "source": [
    "### Insert Multiple Records"
   ]
  },
  {
   "cell_type": "code",
   "execution_count": 23,
   "metadata": {
    "ExecuteTime": {
     "end_time": "2019-08-24T12:29:34.316902Z",
     "start_time": "2019-08-24T12:29:34.308031Z"
    }
   },
   "outputs": [],
   "source": [
    "many_records = [{'name':'Tom', 'birth':'19920622'},\n",
    "                {'name':'Trump', 'birth':'19910502'}]\n",
    "rows = my_collection.insert_many(many_records)"
   ]
  },
  {
   "cell_type": "markdown",
   "metadata": {},
   "source": [
    "### Insert Record with Id"
   ]
  },
  {
   "cell_type": "code",
   "execution_count": 24,
   "metadata": {
    "ExecuteTime": {
     "end_time": "2019-08-24T12:32:38.664564Z",
     "start_time": "2019-08-24T12:32:38.659956Z"
    }
   },
   "outputs": [],
   "source": [
    "record_with_id = {'_id': '1','name':'Lily', 'birth':'19981011' }\n",
    "row = my_collection.insert_one(record_with_id)"
   ]
  },
  {
   "cell_type": "markdown",
   "metadata": {},
   "source": [
    "### Find Item"
   ]
  },
  {
   "cell_type": "code",
   "execution_count": 25,
   "metadata": {
    "ExecuteTime": {
     "end_time": "2019-08-24T12:35:40.692877Z",
     "start_time": "2019-08-24T12:35:40.687308Z"
    }
   },
   "outputs": [
    {
     "name": "stdout",
     "output_type": "stream",
     "text": [
      "{'name': 'joe'}\n",
      "{'name': 'joe'}\n",
      "{'name': 'Tom'}\n",
      "{'name': 'Trump'}\n",
      "{'name': 'Lily'}\n"
     ]
    }
   ],
   "source": [
    "for x in my_collection.find({},{'_id':0,'name':1}):\n",
    "    print(x)"
   ]
  }
 ],
 "metadata": {
  "kernelspec": {
   "display_name": "Python 3",
   "language": "python",
   "name": "python3"
  },
  "language_info": {
   "codemirror_mode": {
    "name": "ipython",
    "version": 3
   },
   "file_extension": ".py",
   "mimetype": "text/x-python",
   "name": "python",
   "nbconvert_exporter": "python",
   "pygments_lexer": "ipython3",
   "version": "3.6.6"
  }
 },
 "nbformat": 4,
 "nbformat_minor": 2
}
